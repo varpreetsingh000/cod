{
  "nbformat": 4,
  "nbformat_minor": 0,
  "metadata": {
    "colab": {
      "provenance": []
    },
    "kernelspec": {
      "name": "python3",
      "display_name": "Python 3"
    },
    "language_info": {
      "name": "python"
    }
  },
  "cells": [
    {
      "cell_type": "markdown",
      "source": [
        "DATA STRUCTURES ASSIGNMENT\n"
      ],
      "metadata": {
        "id": "gmJHCxPyYMHi"
      }
    },
    {
      "cell_type": "markdown",
      "source": [
        "Q-1 Discuss string slicing and provide examples."
      ],
      "metadata": {
        "id": "gQqMfsQFYYfz"
      }
    },
    {
      "cell_type": "markdown",
      "source": [
        "String slicing is a powerful feature in Python that allows user to extract a portion (or slice) of a string. Slicing is done by specifying a range of indices, and Python will return the substring that falls within that range."
      ],
      "metadata": {
        "id": "hXrW-y4dYlcZ"
      }
    },
    {
      "cell_type": "markdown",
      "source": [
        "Basic syntax:\n",
        "string[start:stop:step]\n"
      ],
      "metadata": {
        "id": "os-PELrtZPYF"
      }
    },
    {
      "cell_type": "markdown",
      "source": [
        "start: The starting index of the slice (inclusive).\n",
        "\n",
        "stop: The ending index of the slice (exclusive).\n",
        "\n",
        "step: The step size or interval between indices (optional).\n",
        "\n",
        "If any of these are omitted, Python uses default values:\n",
        "\n",
        "start defaults to 0 (the beginning of the string).\n",
        "\n",
        "stop defaults to the length of the string (the end of the string).\n",
        "\n",
        "step defaults to 1 (every character)."
      ],
      "metadata": {
        "id": "R3ssDXN1ZUOa"
      }
    },
    {
      "cell_type": "code",
      "source": [
        "#example\n",
        "text = \"Hello, World!\"\n",
        "slice1 = text[::2]\n",
        "slice2 = text[1::2]\n",
        "slice3 = text[::-1]\n",
        "print(slice1)\n",
        "print(slice2)\n",
        "print(slice3)\n"
      ],
      "metadata": {
        "id": "QHJntVL8ZH4X",
        "colab": {
          "base_uri": "https://localhost:8080/"
        },
        "outputId": "30015d38-cdeb-4df4-813d-289c077dcb74"
      },
      "execution_count": null,
      "outputs": [
        {
          "output_type": "stream",
          "name": "stdout",
          "text": [
            "Hlo ol!\n",
            "el,Wrd\n",
            "!dlroW ,olleH\n"
          ]
        }
      ]
    },
    {
      "cell_type": "markdown",
      "source": [
        "text[::2] takes every second character starting from the beginning.\n",
        "\n",
        "text[1::2] takes every second character starting from the second character.\n",
        "\n",
        "text[::-1] reverses the string."
      ],
      "metadata": {
        "id": "dOqLncUiZrOC"
      }
    },
    {
      "cell_type": "code",
      "source": [
        "#example 2\n",
        "text = \"Hello, World!\"\n",
        "slice1 = text[-6:-1]  # \"World\"\n",
        "slice2 = text[-6:]    # \"World!\"\n"
      ],
      "metadata": {
        "id": "sU1vOCWJZnSk"
      },
      "execution_count": null,
      "outputs": []
    },
    {
      "cell_type": "markdown",
      "source": [
        "Q-2 Explain the key features of lists In Python"
      ],
      "metadata": {
        "id": "qrQUhRw0aABH"
      }
    },
    {
      "cell_type": "markdown",
      "source": [
        "Lists in Python are versatile, ordered, and mutable collections that can hold a variety of data types. Here are the key features of lists in Python:"
      ],
      "metadata": {
        "id": "JZ5944_FaFue"
      }
    },
    {
      "cell_type": "markdown",
      "source": [
        "1. Lists maintain the order of elements, meaning that the order in which elements are inserted into a list is preserved."
      ],
      "metadata": {
        "id": "ExXvAF8SaQC9"
      }
    },
    {
      "cell_type": "code",
      "source": [
        "my_list = [3, 1, 4, 1, 5]\n",
        "print(my_list)\n"
      ],
      "metadata": {
        "colab": {
          "base_uri": "https://localhost:8080/"
        },
        "id": "XKaAM1BoZ93A",
        "outputId": "590aa406-b9cc-4fa9-f040-81a31b3d3bc8"
      },
      "execution_count": null,
      "outputs": [
        {
          "output_type": "stream",
          "name": "stdout",
          "text": [
            "[3, 1, 4, 1, 5]\n"
          ]
        }
      ]
    },
    {
      "cell_type": "markdown",
      "source": [
        "2. Lists are mutable, which means elements can be changed, added, or removed after the list has been created.\n"
      ],
      "metadata": {
        "id": "LQqr5FZ7aaUB"
      }
    },
    {
      "cell_type": "code",
      "source": [
        "my_list = [1, 2, 3]\n",
        "my_list[1] = 20\n",
        "print(my_list)\n"
      ],
      "metadata": {
        "colab": {
          "base_uri": "https://localhost:8080/"
        },
        "id": "5iY5s6BTaXMK",
        "outputId": "6f013289-8210-4fac-a1d1-ce55ddba6599"
      },
      "execution_count": null,
      "outputs": [
        {
          "output_type": "stream",
          "name": "stdout",
          "text": [
            "[1, 20, 3]\n"
          ]
        }
      ]
    },
    {
      "cell_type": "markdown",
      "source": [
        "3. Lists can store elements of different data types, including other lists (nested lists)."
      ],
      "metadata": {
        "id": "dbEl-TMqah5Q"
      }
    },
    {
      "cell_type": "code",
      "source": [
        "my_list = [1, \"Hello\", 3.14, [10, 20]]\n",
        "print(my_list)\n"
      ],
      "metadata": {
        "colab": {
          "base_uri": "https://localhost:8080/"
        },
        "id": "g0WUPL4wag0j",
        "outputId": "5dd80aa8-48e5-449b-d064-afcd198ac225"
      },
      "execution_count": null,
      "outputs": [
        {
          "output_type": "stream",
          "name": "stdout",
          "text": [
            "[1, 'Hello', 3.14, [10, 20]]\n"
          ]
        }
      ]
    },
    {
      "cell_type": "markdown",
      "source": [
        "4. Lists in Python can grow or shrink in size as needed. Elements can be added or removed without having to declare the list size in advance.\n"
      ],
      "metadata": {
        "id": "o1j9L_B0aq_B"
      }
    },
    {
      "cell_type": "code",
      "source": [
        "my_list = [1, 2, 3]\n",
        "my_list.append(4)\n",
        "print(my_list)\n",
        "my_list.pop()\n",
        "print(my_list)\n"
      ],
      "metadata": {
        "colab": {
          "base_uri": "https://localhost:8080/"
        },
        "id": "N4Mg5xtDapol",
        "outputId": "c2704cc9-32e2-4e01-92a7-7def16a5a5de"
      },
      "execution_count": null,
      "outputs": [
        {
          "output_type": "stream",
          "name": "stdout",
          "text": [
            "[1, 2, 3, 4]\n",
            "[1, 2, 3]\n"
          ]
        }
      ]
    },
    {
      "cell_type": "markdown",
      "source": [
        "5. User can access list elements using their index, with indexing starting at 0. Negative indices can also be used to access elements from the end of the list."
      ],
      "metadata": {
        "id": "u9XyPP9ya1Fr"
      }
    },
    {
      "cell_type": "code",
      "source": [
        "my_list = ['a', 'b', 'c', 'd']\n",
        "print(my_list[1])\n",
        "print(my_list[-1])\n"
      ],
      "metadata": {
        "colab": {
          "base_uri": "https://localhost:8080/"
        },
        "id": "qaPFEve7ay6m",
        "outputId": "c9a19de2-0ed6-43ee-d8d7-5645269f5349"
      },
      "execution_count": 1,
      "outputs": [
        {
          "output_type": "stream",
          "name": "stdout",
          "text": [
            "b\n",
            "d\n"
          ]
        }
      ]
    },
    {
      "cell_type": "markdown",
      "source": [
        "6. Like strings, lists can be sliced to access a subset of elements."
      ],
      "metadata": {
        "id": "QH17zg_Qa-Kr"
      }
    },
    {
      "cell_type": "code",
      "source": [
        "my_list = [0, 1, 2, 3, 4, 5]\n",
        "print(my_list[2:5])\n",
        "print(my_list[:3])\n",
        "print(my_list[3:])\n"
      ],
      "metadata": {
        "colab": {
          "base_uri": "https://localhost:8080/"
        },
        "id": "nBr-Tdc6a9LM",
        "outputId": "0b380429-2a60-44d5-e3db-293f6fd8e268"
      },
      "execution_count": null,
      "outputs": [
        {
          "output_type": "stream",
          "name": "stdout",
          "text": [
            "[2, 3, 4]\n",
            "[0, 1, 2]\n",
            "[3, 4, 5]\n"
          ]
        }
      ]
    },
    {
      "cell_type": "markdown",
      "source": [
        "7. Python provides a variety of built-in methods to manipulate lists, such as append(), extend(), insert(), remove(), pop(), sort(), reverse(), and more."
      ],
      "metadata": {
        "id": "6X8LKpDabR_5"
      }
    },
    {
      "cell_type": "code",
      "source": [
        "my_list = [3, 1, 4, 1, 5]\n",
        "my_list.append(9)\n",
        "print(my_list)\n",
        "\n",
        "my_list.sort()\n",
        "print(my_list)\n",
        "\n",
        "my_list.remove(1)\n",
        "print(my_list)\n"
      ],
      "metadata": {
        "colab": {
          "base_uri": "https://localhost:8080/"
        },
        "id": "T59VHJc4bN8i",
        "outputId": "edc967aa-1290-41ec-d108-ef19e86d1994"
      },
      "execution_count": null,
      "outputs": [
        {
          "output_type": "stream",
          "name": "stdout",
          "text": [
            "[3, 1, 4, 1, 5, 9]\n",
            "[1, 1, 3, 4, 5, 9]\n",
            "[1, 3, 4, 5, 9]\n"
          ]
        }
      ]
    },
    {
      "cell_type": "markdown",
      "source": [
        "8. Python allows for concise and efficient creation and manipulation of lists using list comprehensions, which are a compact way to generate lists from existing iterables."
      ],
      "metadata": {
        "id": "vGHcAn6Ibb8n"
      }
    },
    {
      "cell_type": "code",
      "source": [
        "squares = [x**2 for x in range(5)]\n",
        "print(squares)\n"
      ],
      "metadata": {
        "colab": {
          "base_uri": "https://localhost:8080/"
        },
        "id": "1FuM7WBFba3z",
        "outputId": "68b651e4-eb63-46b1-e800-0ffb1886dcbf"
      },
      "execution_count": null,
      "outputs": [
        {
          "output_type": "stream",
          "name": "stdout",
          "text": [
            "[0, 1, 4, 9, 16]\n"
          ]
        }
      ]
    },
    {
      "cell_type": "markdown",
      "source": [
        "9. Lists can contain other lists as elements, allowing for the creation of complex, multi-dimensional data structures."
      ],
      "metadata": {
        "id": "bNrbHgupb9Fi"
      }
    },
    {
      "cell_type": "code",
      "source": [
        "matrix = [[1, 2, 3], [4, 5, 6], [7, 8, 9]]\n",
        "print(matrix[1][2])\n"
      ],
      "metadata": {
        "colab": {
          "base_uri": "https://localhost:8080/"
        },
        "id": "RJzd1oW3bhjt",
        "outputId": "b7a40b02-e4e5-433a-c046-a1b9902c02ee"
      },
      "execution_count": null,
      "outputs": [
        {
          "output_type": "stream",
          "name": "stdout",
          "text": [
            "6\n"
          ]
        }
      ]
    },
    {
      "cell_type": "markdown",
      "source": [
        "10. Elements of a list can be iterated over using loops like 'for' or 'while'."
      ],
      "metadata": {
        "id": "vmr_lnzJcCSC"
      }
    },
    {
      "cell_type": "code",
      "source": [
        "my_list = ['a', 'b', 'c']\n",
        "for item in my_list:\n",
        "    print(item)\n"
      ],
      "metadata": {
        "colab": {
          "base_uri": "https://localhost:8080/"
        },
        "id": "Fsy9IZarcA8R",
        "outputId": "b061c38e-07c5-45db-d24b-6c01dbee5565"
      },
      "execution_count": null,
      "outputs": [
        {
          "output_type": "stream",
          "name": "stdout",
          "text": [
            "a\n",
            "b\n",
            "c\n"
          ]
        }
      ]
    },
    {
      "cell_type": "markdown",
      "source": [
        "Q-3 Describe how to access, modify, and delete elements in a list with examples."
      ],
      "metadata": {
        "id": "KvgN5FqecQ9Y"
      }
    },
    {
      "cell_type": "markdown",
      "source": [
        "-> Accessing Elements in a List\n",
        "Elements can be accessed in a list using their index. Python uses zero-based indexing, so the first element is at index 0.\n",
        "\n",
        "Access by Positive Index:"
      ],
      "metadata": {
        "id": "uiCtyf_DcpHg"
      }
    },
    {
      "cell_type": "code",
      "source": [
        "my_list = ['apple', 'banana', 'cherry']\n",
        "\n",
        "# Access the first element\n",
        "print(my_list[0])\n",
        "\n",
        "# Access the second element\n",
        "print(my_list[1])\n"
      ],
      "metadata": {
        "colab": {
          "base_uri": "https://localhost:8080/"
        },
        "id": "MfVcxs0VcKkQ",
        "outputId": "3c6a5b59-4f57-4276-e0e5-f635b9c2c1d2"
      },
      "execution_count": null,
      "outputs": [
        {
          "output_type": "stream",
          "name": "stdout",
          "text": [
            "apple\n",
            "banana\n"
          ]
        }
      ]
    },
    {
      "cell_type": "markdown",
      "source": [
        "Access by Negative Index:\n",
        "Negative indices allows to access elements from the end of the list."
      ],
      "metadata": {
        "id": "mRfmk4B8cxP5"
      }
    },
    {
      "cell_type": "code",
      "source": [
        "# Access the last element\n",
        "print(my_list[-1])\n",
        "\n",
        "# Access the second-to-last element\n",
        "print(my_list[-2])\n"
      ],
      "metadata": {
        "colab": {
          "base_uri": "https://localhost:8080/"
        },
        "id": "tCrHU7d8cv-0",
        "outputId": "3e21531c-2bbc-4a35-d1c1-7513a1968f7f"
      },
      "execution_count": null,
      "outputs": [
        {
          "output_type": "stream",
          "name": "stdout",
          "text": [
            "cherry\n",
            "banana\n"
          ]
        }
      ]
    },
    {
      "cell_type": "markdown",
      "source": [
        "-> Modifying Elements in a List\n",
        "Elements can be  modified in a list by assigning a new value to a specific index.\n",
        "\n",
        "Modify a Single Element:"
      ],
      "metadata": {
        "id": "PucxvVuVc_t6"
      }
    },
    {
      "cell_type": "code",
      "source": [
        "my_list = ['apple', 'banana', 'cherry']\n",
        "\n",
        "# Modify the second element\n",
        "my_list[1] = 'blueberry'\n",
        "print(my_list)\n"
      ],
      "metadata": {
        "colab": {
          "base_uri": "https://localhost:8080/"
        },
        "id": "KXgsGL-Ac74g",
        "outputId": "15d0840d-1007-4bd1-bdb6-443d5b840dea"
      },
      "execution_count": null,
      "outputs": [
        {
          "output_type": "stream",
          "name": "stdout",
          "text": [
            "['apple', 'blueberry', 'cherry']\n"
          ]
        }
      ]
    },
    {
      "cell_type": "markdown",
      "source": [
        "Modify Multiple Elements (Using Slicing):\n",
        "A range of elements can also be modified using slicing."
      ],
      "metadata": {
        "id": "NW2j2AQndehf"
      }
    },
    {
      "cell_type": "code",
      "source": [
        "my_list = [1, 2, 3, 4, 5]\n",
        "\n",
        "# Modify the first three elements\n",
        "my_list[:3] = [10, 20, 30]\n",
        "print(my_list)\n"
      ],
      "metadata": {
        "colab": {
          "base_uri": "https://localhost:8080/"
        },
        "id": "TFddiaW2dftN",
        "outputId": "60a89fb7-cd65-4c39-d6d3-56051292d7af"
      },
      "execution_count": null,
      "outputs": [
        {
          "output_type": "stream",
          "name": "stdout",
          "text": [
            "[10, 20, 30, 4, 5]\n"
          ]
        }
      ]
    },
    {
      "cell_type": "markdown",
      "source": [
        "-> Deleting Elements in a List\n",
        "\n",
        "Using del Statement:\n",
        "The del statement is used to remove an element at a specific index."
      ],
      "metadata": {
        "id": "RrK1XUpTdnnS"
      }
    },
    {
      "cell_type": "code",
      "source": [
        "my_list = ['apple', 'banana', 'cherry']\n",
        "\n",
        "# Delete the second element\n",
        "del my_list[1]\n",
        "print(my_list)\n"
      ],
      "metadata": {
        "colab": {
          "base_uri": "https://localhost:8080/"
        },
        "id": "LHvU4L6-di6t",
        "outputId": "5e4f56fd-8479-4fe6-caa9-59d6d3eca294"
      },
      "execution_count": null,
      "outputs": [
        {
          "output_type": "stream",
          "name": "stdout",
          "text": [
            "['apple', 'cherry']\n"
          ]
        }
      ]
    },
    {
      "cell_type": "markdown",
      "source": [
        "Using pop() Method:\n",
        "The pop() method removes and returns the element at a specific index. If no index is specified, it removes the last element."
      ],
      "metadata": {
        "id": "chK_VLeKdzTV"
      }
    },
    {
      "cell_type": "code",
      "source": [
        "my_list = [10, 20, 30, 40]\n",
        "\n",
        "# Remove the last element\n",
        "last_item = my_list.pop()\n",
        "print(last_item)\n",
        "print(my_list)\n",
        "\n",
        "# Remove the first element\n",
        "first_item = my_list.pop(0)\n",
        "print(first_item)\n",
        "print(my_list)\n"
      ],
      "metadata": {
        "colab": {
          "base_uri": "https://localhost:8080/"
        },
        "id": "kzy1O9Hkdu27",
        "outputId": "8f47507f-51e1-4af6-b12e-bda28c5e4f1f"
      },
      "execution_count": null,
      "outputs": [
        {
          "output_type": "stream",
          "name": "stdout",
          "text": [
            "40\n",
            "[10, 20, 30]\n",
            "10\n",
            "[20, 30]\n"
          ]
        }
      ]
    },
    {
      "cell_type": "markdown",
      "source": [
        "Using remove() Method:\n",
        "The remove() method removes the first occurrence of a specific value."
      ],
      "metadata": {
        "id": "vEO0IDZGeWUz"
      }
    },
    {
      "cell_type": "code",
      "source": [
        "my_list = ['apple', 'banana', 'cherry', 'banana']\n",
        "\n",
        "# Remove the first occurrence of 'banana'\n",
        "my_list.remove('banana')\n",
        "print(my_list)\n"
      ],
      "metadata": {
        "colab": {
          "base_uri": "https://localhost:8080/"
        },
        "id": "vu3fB69deVL0",
        "outputId": "f22af091-feb3-4272-e157-5bc3d9f34508"
      },
      "execution_count": null,
      "outputs": [
        {
          "output_type": "stream",
          "name": "stdout",
          "text": [
            "['apple', 'cherry', 'banana']\n"
          ]
        }
      ]
    },
    {
      "cell_type": "markdown",
      "source": [
        "Using clear() Method:\n",
        "The clear() method removes all elements from the list, leaving it empty."
      ],
      "metadata": {
        "id": "d9Twl3F8eejS"
      }
    },
    {
      "cell_type": "code",
      "source": [
        "my_list = [1, 2, 3, 4, 5]\n",
        "\n",
        "# Clear the list\n",
        "my_list.clear()\n",
        "print(my_list)\n"
      ],
      "metadata": {
        "colab": {
          "base_uri": "https://localhost:8080/"
        },
        "id": "ci_ZiQiUedgz",
        "outputId": "ed600544-1519-4c72-958e-ac60c5dd9282"
      },
      "execution_count": null,
      "outputs": [
        {
          "output_type": "stream",
          "name": "stdout",
          "text": [
            "[]\n"
          ]
        }
      ]
    },
    {
      "cell_type": "markdown",
      "source": [
        "Deleting Multiple Elements:\n",
        "A range of elements can be deleted using slicing with the del statement."
      ],
      "metadata": {
        "id": "3SkK2qMKepPo"
      }
    },
    {
      "cell_type": "code",
      "source": [
        "my_list = [1, 2, 3, 4, 5, 6, 7]\n",
        "\n",
        "# Delete the first three elements\n",
        "del my_list[:3]\n",
        "print(my_list)\n"
      ],
      "metadata": {
        "colab": {
          "base_uri": "https://localhost:8080/"
        },
        "id": "pb1HRddTemGS",
        "outputId": "9db83828-72fe-4796-caed-b748171b464d"
      },
      "execution_count": null,
      "outputs": [
        {
          "output_type": "stream",
          "name": "stdout",
          "text": [
            "[4, 5, 6, 7]\n"
          ]
        }
      ]
    },
    {
      "cell_type": "markdown",
      "source": [
        "Q-4 Compare and contrast tuples and lists with examples."
      ],
      "metadata": {
        "id": "57a2EGDbe5g6"
      }
    },
    {
      "cell_type": "markdown",
      "source": [
        "Tuples and lists are both sequence data types in Python, but they have some key differences that make them suited for different use cases. Here’s a comparison of tuples and lists, along with examples to illustrate their differences and similarities.\n",
        "\n",
        "1. Mutability\n",
        "Lists: Mutable, meaning their elements can be changed, added, or removed after the list is created.\n",
        "\n",
        " Tuples: Immutable, meaning once a tuple is created, its elements cannot be changed, added, or removed."
      ],
      "metadata": {
        "id": "AUVpzLbye8aS"
      }
    },
    {
      "cell_type": "code",
      "source": [
        "# List - Mutable\n",
        "my_list = [1, 2, 3]\n",
        "my_list[0] = 10\n",
        "print(my_list)  # Output: [10, 2, 3]\n",
        "\n",
        "# Tuple - Immutable\n",
        "my_tuple = (1, 2, 3)\n",
        "# my_tuple[0] = 10  # This will raise a TypeError\n"
      ],
      "metadata": {
        "colab": {
          "base_uri": "https://localhost:8080/"
        },
        "id": "-s2PFpqQfNdK",
        "outputId": "9dba2adb-efbf-4cee-8651-d709d194205f"
      },
      "execution_count": null,
      "outputs": [
        {
          "output_type": "stream",
          "name": "stdout",
          "text": [
            "[10, 2, 3]\n"
          ]
        }
      ]
    },
    {
      "cell_type": "markdown",
      "source": [
        "2. Syntax:\n",
        "\n",
        "Lists: Created using square brackets [].\n",
        "\n",
        "Tuples: Created using parentheses ()."
      ],
      "metadata": {
        "id": "I2PpR35ffUAa"
      }
    },
    {
      "cell_type": "code",
      "source": [
        "# List\n",
        "my_list = [1, 2, 3]\n",
        "\n",
        "# Tuple\n",
        "my_tuple = (1, 2, 3)\n"
      ],
      "metadata": {
        "id": "H7bXvDi4fSzJ"
      },
      "execution_count": null,
      "outputs": []
    },
    {
      "cell_type": "markdown",
      "source": [
        "3. Usage:\n",
        "\n",
        "Lists: Used when user need a sequence of items that may need to be modified during the lifetime of the program.\n",
        "\n",
        "Tuples: Used when user need a sequence of items that should not be changed, such as when user want to ensure data integrity."
      ],
      "metadata": {
        "id": "X6u4T7gqfhfi"
      }
    },
    {
      "cell_type": "code",
      "source": [
        "# List example - Modifiable\n",
        "shopping_list = ['milk', 'eggs', 'bread']\n",
        "shopping_list.append('butter')\n",
        "print(shopping_list)\n",
        "\n",
        "# Tuple example - Fixed set of data\n",
        "coordinates = (40.7128, -74.0060)\n",
        "# coordinates[0] = 40.7306  # This will raise a TypeError\n"
      ],
      "metadata": {
        "colab": {
          "base_uri": "https://localhost:8080/"
        },
        "id": "AcLtOgIjfgPv",
        "outputId": "c663c3f6-7e0c-4b0b-8609-4ac049cff8b1"
      },
      "execution_count": 2,
      "outputs": [
        {
          "output_type": "stream",
          "name": "stdout",
          "text": [
            "['milk', 'eggs', 'bread', 'butter']\n"
          ]
        }
      ]
    },
    {
      "cell_type": "markdown",
      "source": [
        "4. Performance\n",
        "\n",
        "Lists: Slightly slower than tuples when it comes to iteration and access due to the overhead of mutability.\n",
        "\n",
        "Tuples: Faster than lists because they are immutable and have less overhead."
      ],
      "metadata": {
        "id": "fpKPgVt1fy4Z"
      }
    },
    {
      "cell_type": "markdown",
      "source": [
        "5. Memory Usage\n",
        "\n",
        "Lists: Require more memory because they need to accommodate changes (e.g., resizing).\n",
        "\n",
        "Tuples: Use less memory because they are immutable."
      ],
      "metadata": {
        "id": "SOYL6MYIf9Nu"
      }
    },
    {
      "cell_type": "markdown",
      "source": [
        "6. Methods\n",
        "\n",
        "Lists: Have a variety of methods such as append(), remove(), pop(), sort(), reverse(), etc.\n",
        "\n",
        "Tuples: Have fewer methods since they are immutable, mainly count() and index()."
      ],
      "metadata": {
        "id": "hXxgYiXzf_9k"
      }
    },
    {
      "cell_type": "code",
      "source": [
        "# List methods\n",
        "my_list = [1, 2, 3]\n",
        "my_list.append(4)\n",
        "my_list.remove(2)\n",
        "print(my_list)\n",
        "\n",
        "# Tuple methods\n",
        "my_tuple = (1, 2, 3, 1)\n",
        "print(my_tuple.count(1))\n",
        "print(my_tuple.index(2))\n"
      ],
      "metadata": {
        "colab": {
          "base_uri": "https://localhost:8080/"
        },
        "id": "VeIxbQTQfxgx",
        "outputId": "882c5eee-b7ca-42c0-84ec-a1cdb27d879d"
      },
      "execution_count": null,
      "outputs": [
        {
          "output_type": "stream",
          "name": "stdout",
          "text": [
            "[1, 3, 4]\n",
            "2\n",
            "1\n"
          ]
        }
      ]
    },
    {
      "cell_type": "markdown",
      "source": [
        "7. Heterogeneous vs. Homogeneous\n",
        "\n",
        "Both: Both lists and tuples can hold elements of different data types, including other lists or tuples."
      ],
      "metadata": {
        "id": "QED-UrLngZOc"
      }
    },
    {
      "cell_type": "code",
      "source": [
        "# Heterogeneous elements in a list\n",
        "my_list = [1, \"Hello\", 3.14, [10, 20]]\n",
        "\n",
        "# Heterogeneous elements in a tuple\n",
        "my_tuple = (1, \"Hello\", 3.14, (10, 20))\n"
      ],
      "metadata": {
        "id": "L_DnXHgEgPeO"
      },
      "execution_count": null,
      "outputs": []
    },
    {
      "cell_type": "markdown",
      "source": [
        "Q-5 Describe the key features of sets and provide examples of their use."
      ],
      "metadata": {
        "id": "7J2A0ES9hrNl"
      }
    },
    {
      "cell_type": "markdown",
      "source": [
        "Sets in Python are a collection data type that stores unordered, unique elements. They are particularly useful for operations that involve membership testing, removing duplicates, and performing mathematical set operations like union, intersection, and difference. Here are the key features of sets, along with examples of their use:\n",
        "\n",
        "1. Unordered:\n",
        "Sets do not maintain the order of elements. When user iterate over a set, the elements may appear in any order."
      ],
      "metadata": {
        "id": "VtMmVYi8hxhY"
      }
    },
    {
      "cell_type": "code",
      "source": [
        "my_set = {1, 2, 3, 4, 5}\n",
        "print(my_set)  # Output: {1, 2, 3, 4, 5} (order may vary)\n"
      ],
      "metadata": {
        "colab": {
          "base_uri": "https://localhost:8080/"
        },
        "id": "zCpyBSWJgfEx",
        "outputId": "093efe4d-ca23-48a7-df5e-44cd3656bbd8"
      },
      "execution_count": null,
      "outputs": [
        {
          "output_type": "stream",
          "name": "stdout",
          "text": [
            "{1, 2, 3, 4, 5}\n"
          ]
        }
      ]
    },
    {
      "cell_type": "markdown",
      "source": [
        "2. Unique Elements:\n",
        "Sets automatically remove duplicate elements, so each element in a set is unique."
      ],
      "metadata": {
        "id": "QJajs8YhiE6n"
      }
    },
    {
      "cell_type": "code",
      "source": [
        "my_set = {1, 2, 2, 3, 4, 4, 5}\n",
        "print(my_set)\n"
      ],
      "metadata": {
        "colab": {
          "base_uri": "https://localhost:8080/"
        },
        "id": "Ir_ShFtjiDbE",
        "outputId": "6c662a36-5b3f-48e2-86a0-1743a8361070"
      },
      "execution_count": null,
      "outputs": [
        {
          "output_type": "stream",
          "name": "stdout",
          "text": [
            "{1, 2, 3, 4, 5}\n"
          ]
        }
      ]
    },
    {
      "cell_type": "markdown",
      "source": [
        "3. Mutable:\n",
        "Sets are mutable, meaning user can add or remove elements after the set is created."
      ],
      "metadata": {
        "id": "3CWVDNGniMtq"
      }
    },
    {
      "cell_type": "code",
      "source": [
        "my_set = {1, 2, 3}\n",
        "my_set.add(4)\n",
        "print(my_set)\n",
        "\n",
        "my_set.remove(2)\n",
        "print(my_set)\n"
      ],
      "metadata": {
        "colab": {
          "base_uri": "https://localhost:8080/"
        },
        "id": "JQ7x-EMLiLyj",
        "outputId": "10f96997-d4cb-48e3-e925-d261ba048fa6"
      },
      "execution_count": null,
      "outputs": [
        {
          "output_type": "stream",
          "name": "stdout",
          "text": [
            "{1, 2, 3, 4}\n",
            "{1, 3, 4}\n"
          ]
        }
      ]
    },
    {
      "cell_type": "markdown",
      "source": [
        "4. No Indexing or Slicing:\n",
        "Because sets are unordered, user cannot access elements by index or slice a set as they would with a list or tuple."
      ],
      "metadata": {
        "id": "aHteh4OoicHz"
      }
    },
    {
      "cell_type": "code",
      "source": [
        "my_set = {1, 2, 3}\n",
        "# print(my_set[0])  # This will raise a TypeError\n"
      ],
      "metadata": {
        "id": "KgkbKGUAibGm"
      },
      "execution_count": null,
      "outputs": []
    },
    {
      "cell_type": "markdown",
      "source": [
        "5. Set Operations:\n",
        "Sets support standard set operations like union, intersection, difference, and symmetric difference.\n",
        "\n",
        "-> Union (| or union() method): Combines all elements from both sets."
      ],
      "metadata": {
        "id": "wwCjuta5irQP"
      }
    },
    {
      "cell_type": "code",
      "source": [
        "set1 = {1, 2, 3}\n",
        "set2 = {3, 4, 5}\n",
        "union_set = set1 | set2\n",
        "print(union_set)\n"
      ],
      "metadata": {
        "colab": {
          "base_uri": "https://localhost:8080/"
        },
        "id": "rv0leNWSipej",
        "outputId": "a226d1cb-8f78-4b39-b64c-edf6f7251cc6"
      },
      "execution_count": null,
      "outputs": [
        {
          "output_type": "stream",
          "name": "stdout",
          "text": [
            "{1, 2, 3, 4, 5}\n"
          ]
        }
      ]
    },
    {
      "cell_type": "markdown",
      "source": [
        "-> Intersection (& or intersection() method): Returns elements common to both sets."
      ],
      "metadata": {
        "id": "HU1dw_Gqi9RL"
      }
    },
    {
      "cell_type": "code",
      "source": [
        "intersection_set = set1 & set2\n",
        "print(intersection_set)\n"
      ],
      "metadata": {
        "colab": {
          "base_uri": "https://localhost:8080/"
        },
        "id": "rRDMOW9zi65Y",
        "outputId": "3e032cf1-bb04-4163-904c-470903937c57"
      },
      "execution_count": null,
      "outputs": [
        {
          "output_type": "stream",
          "name": "stdout",
          "text": [
            "{3}\n"
          ]
        }
      ]
    },
    {
      "cell_type": "markdown",
      "source": [
        "-> Difference (- or difference() method): Returns elements in the first set that are not in the second set."
      ],
      "metadata": {
        "id": "AokjXotEjFKL"
      }
    },
    {
      "cell_type": "code",
      "source": [
        "difference_set = set1 - set2\n",
        "print(difference_set)\n"
      ],
      "metadata": {
        "colab": {
          "base_uri": "https://localhost:8080/"
        },
        "id": "J5sJodGTjEKH",
        "outputId": "a4f5bddb-26c2-4772-f156-5dd175f00b62"
      },
      "execution_count": null,
      "outputs": [
        {
          "output_type": "stream",
          "name": "stdout",
          "text": [
            "{1, 2}\n"
          ]
        }
      ]
    },
    {
      "cell_type": "markdown",
      "source": [
        "-> Symmetric Difference (^ or symmetric_difference() method): Returns elements in either of the sets, but not in both."
      ],
      "metadata": {
        "id": "p8u73AJojMQW"
      }
    },
    {
      "cell_type": "code",
      "source": [
        "sym_diff_set = set1 ^ set2\n",
        "print(sym_diff_set)\n"
      ],
      "metadata": {
        "colab": {
          "base_uri": "https://localhost:8080/"
        },
        "id": "NwH6A45MjLUj",
        "outputId": "31c2af8a-171f-41e4-fa23-93a0311e0091"
      },
      "execution_count": null,
      "outputs": [
        {
          "output_type": "stream",
          "name": "stdout",
          "text": [
            "{1, 2, 4, 5}\n"
          ]
        }
      ]
    },
    {
      "cell_type": "markdown",
      "source": [
        "6. Membership Testing:\n",
        "Checking if an element exists in a set is very fast, making sets ideal for membership testing."
      ],
      "metadata": {
        "id": "O7QvA_LGjVcB"
      }
    },
    {
      "cell_type": "code",
      "source": [
        "my_set = {1, 2, 3, 4, 5}\n",
        "print(3 in my_set)\n",
        "print(6 in my_set)\n"
      ],
      "metadata": {
        "colab": {
          "base_uri": "https://localhost:8080/"
        },
        "id": "RRNxYgbljRne",
        "outputId": "9327f99a-b2f8-4eb1-b07d-98b1faca4398"
      },
      "execution_count": null,
      "outputs": [
        {
          "output_type": "stream",
          "name": "stdout",
          "text": [
            "True\n",
            "False\n"
          ]
        }
      ]
    },
    {
      "cell_type": "markdown",
      "source": [
        "7. Iterating Over a Set:\n",
        "User can iterate over the elements of a set using a for loop."
      ],
      "metadata": {
        "id": "gdsxHYa5jfIw"
      }
    },
    {
      "cell_type": "code",
      "source": [
        "my_set = {1, 2, 3, 4, 5}\n",
        "for item in my_set:\n",
        "    print(item)\n",
        "# Output may vary (e.g., 1, 2, 3, 4, 5 in any order)\n"
      ],
      "metadata": {
        "colab": {
          "base_uri": "https://localhost:8080/"
        },
        "id": "zp6X3ijajbpR",
        "outputId": "70827873-f10b-4075-b437-b53180b85dd4"
      },
      "execution_count": null,
      "outputs": [
        {
          "output_type": "stream",
          "name": "stdout",
          "text": [
            "1\n",
            "2\n",
            "3\n",
            "4\n",
            "5\n"
          ]
        }
      ]
    },
    {
      "cell_type": "markdown",
      "source": [
        "8. Set Comprehensions:\n",
        "Similar to list comprehensions, user can create sets using set comprehensions.\n"
      ],
      "metadata": {
        "id": "wE3HhKv0jn36"
      }
    },
    {
      "cell_type": "code",
      "source": [
        "squares = {x**2 for x in range(6)}\n",
        "print(squares)\n"
      ],
      "metadata": {
        "colab": {
          "base_uri": "https://localhost:8080/"
        },
        "id": "7zwAu_qvjkf-",
        "outputId": "71957b13-4b5b-4885-b38f-6517881c1c46"
      },
      "execution_count": null,
      "outputs": [
        {
          "output_type": "stream",
          "name": "stdout",
          "text": [
            "{0, 1, 4, 9, 16, 25}\n"
          ]
        }
      ]
    },
    {
      "cell_type": "markdown",
      "source": [
        "9. Frozen Sets:\n",
        "A frozen set is an immutable version of a set, meaning that once created, elements cannot be added or removed."
      ],
      "metadata": {
        "id": "kEVVg44qj1ih"
      }
    },
    {
      "cell_type": "code",
      "source": [
        "frozen_set = frozenset([1, 2, 3, 4])\n",
        "# frozen_set.add(5)  # This will raise an AttributeError\n",
        "print(frozen_set)\n"
      ],
      "metadata": {
        "colab": {
          "base_uri": "https://localhost:8080/"
        },
        "id": "e8zo6kdAjweU",
        "outputId": "c1c219eb-b1fa-4a21-c38f-ff87f8ad00db"
      },
      "execution_count": null,
      "outputs": [
        {
          "output_type": "stream",
          "name": "stdout",
          "text": [
            "frozenset({1, 2, 3, 4})\n"
          ]
        }
      ]
    },
    {
      "cell_type": "markdown",
      "source": [
        "Q-6 Discuss the use cases of tuples and sets in Python programming."
      ],
      "metadata": {
        "id": "ES5hPIS2kufP"
      }
    },
    {
      "cell_type": "markdown",
      "source": [
        "Use Cases for Tuples:\n",
        "\n",
        "-> Immutable Data:\n",
        "\n",
        "Use Case: When user have a collection of items that should not be changed after creation, such as configuration settings or constants.\n",
        "\n",
        "Example: Storing geographic coordinates (latitude, longitude) which are constant for a particular location."
      ],
      "metadata": {
        "id": "EGGJMerdkzDy"
      }
    },
    {
      "cell_type": "markdown",
      "source": [
        "-> Heterogeneous Data:\n",
        "\n",
        "Use Case: When user want to group together different types of related data. Tuples are ideal for packing different pieces of information into a single, immutable structure.\n",
        "\n",
        "Example: Returning multiple values from a function"
      ],
      "metadata": {
        "id": "taCb7hHQlGM4"
      }
    },
    {
      "cell_type": "code",
      "source": [
        "def get_student_info():\n",
        "    return ('John Doe', 21, 'Computer Science')\n",
        "\n",
        "student = get_student_info()\n",
        "print(student)\n"
      ],
      "metadata": {
        "colab": {
          "base_uri": "https://localhost:8080/"
        },
        "id": "NroMZW0hj9zU",
        "outputId": "b6bbd3c2-23d3-4373-a00f-08160e5ce249"
      },
      "execution_count": null,
      "outputs": [
        {
          "output_type": "stream",
          "name": "stdout",
          "text": [
            "('John Doe', 21, 'Computer Science')\n"
          ]
        }
      ]
    },
    {
      "cell_type": "markdown",
      "source": [
        "-> Data Integrity:\n",
        "\n",
        "Use Case: Ensuring that the data cannot be accidentally modified. Tuples provide a way to protect data by making it immutable.\n",
        "\n",
        "Example: Defining a fixed set of choices or categories that should not change."
      ],
      "metadata": {
        "id": "lMukswkjlQmY"
      }
    },
    {
      "cell_type": "markdown",
      "source": [
        "-> Dictionary Keys:\n",
        "\n",
        "Use Case: Tuples can be used as keys in dictionaries because they are immutable. This is useful when you need a compound key consisting of multiple elements.\n",
        "\n",
        "Example: Using tuples as keys to store data about a specific combination of items."
      ],
      "metadata": {
        "id": "4w2EtFI7lXCs"
      }
    },
    {
      "cell_type": "code",
      "source": [
        "student_scores = {('John', 'Math'): 85, ('John', 'Science'): 92}\n"
      ],
      "metadata": {
        "id": "YyiQa9YOlNzn"
      },
      "execution_count": null,
      "outputs": []
    },
    {
      "cell_type": "markdown",
      "source": [
        "-> Function Arguments:\n",
        "\n",
        "Use Case: Passing a sequence of values as arguments to a function. Tuples can be used to pack and unpack arguments easily.\n",
        "\n",
        "Example: Unpacking a tuple into function arguments"
      ],
      "metadata": {
        "id": "T2Hk4FBZlf8P"
      }
    },
    {
      "cell_type": "code",
      "source": [
        "def display_info(name, age):\n",
        "    print(f\"Name: {name}, Age: {age}\")\n",
        "\n",
        "person_info = ('Alice', 30)\n",
        "display_info(*person_info)\n"
      ],
      "metadata": {
        "colab": {
          "base_uri": "https://localhost:8080/"
        },
        "id": "hUvtHOoxle4E",
        "outputId": "d6ac0452-5454-4c9e-bf66-684b6108e7e4"
      },
      "execution_count": null,
      "outputs": [
        {
          "output_type": "stream",
          "name": "stdout",
          "text": [
            "Name: Alice, Age: 30\n"
          ]
        }
      ]
    },
    {
      "cell_type": "markdown",
      "source": [
        "-> Efficient Memory Usage:\n",
        "\n",
        "Use Case: When user need a lightweight and efficient structure for storing a collection of items, especially when the data set is large and does not need to change.\n",
        "\n",
        "Example: Storing large collections of fixed-size records, like logs or coordinates"
      ],
      "metadata": {
        "id": "Nmi_swbnlpEd"
      }
    },
    {
      "cell_type": "code",
      "source": [
        "large_dataset = [(34.05, -118.25), (40.71, -74.01), (37.77, -122.42)]  # List of tuples\n"
      ],
      "metadata": {
        "id": "c5ttQ09nloHv"
      },
      "execution_count": null,
      "outputs": []
    },
    {
      "cell_type": "markdown",
      "source": [
        "Use Cases for Sets:\n",
        "\n",
        "->Removing Duplicates:\n",
        "\n",
        "Use Case: When user need to remove duplicate elements from a collection. Sets automatically enforce uniqueness.\n",
        "\n",
        "Example: Removing duplicates from a list."
      ],
      "metadata": {
        "id": "gOfVrahql0Nw"
      }
    },
    {
      "cell_type": "markdown",
      "source": [
        "->Membership Testing:\n",
        "\n",
        "Use Case: When user need to check if an item is in a collection quickly. Membership tests with sets are very efficient (O(1) complexity).\n",
        "\n",
        "Example: Checking if an item exists in a collection"
      ],
      "metadata": {
        "id": "_SRXh7WWl7n7"
      }
    },
    {
      "cell_type": "markdown",
      "source": [
        "->Mathematical Set Operations:\n",
        "\n",
        "Use Case: When user need to perform operations like union, intersection, difference, or symmetric difference between two collections. Sets provide built-in methods for these operations.\n",
        "\n",
        "Example: Finding common elements between two sets."
      ],
      "metadata": {
        "id": "xKCPtkv9mAvb"
      }
    },
    {
      "cell_type": "markdown",
      "source": [
        "->Data Deduplication:\n",
        "\n",
        "Use Case: When user need to ensure that all elements in a collection are unique, such as in situations where duplicates would cause issues (e.g., user IDs, email addresses).\n",
        "\n",
        "Example: Ensuring a list of email addresses contains only unique entries."
      ],
      "metadata": {
        "id": "OKAztdiumF5I"
      }
    },
    {
      "cell_type": "markdown",
      "source": [
        "->Fast Lookups:\n",
        "\n",
        "Use Case: When user need to frequently check for the presence of items in a collection, sets offer faster lookup times compared to lists.\n",
        "\n",
        "Example: Quickly checking for the existence of banned words in a chat application."
      ],
      "metadata": {
        "id": "aE03h4c7mXkH"
      }
    },
    {
      "cell_type": "code",
      "source": [
        "banned_words = {'spam', 'scam', 'fraud'}\n",
        "message = \"This is not a spam\"\n",
        "contains_banned = any(word in banned_words for word in message.split())\n",
        "print(contains_banned)\n"
      ],
      "metadata": {
        "colab": {
          "base_uri": "https://localhost:8080/"
        },
        "id": "TnHfBAuylxss",
        "outputId": "f6503e67-1b66-4bdf-b444-d6c324984c5f"
      },
      "execution_count": null,
      "outputs": [
        {
          "output_type": "stream",
          "name": "stdout",
          "text": [
            "True\n"
          ]
        }
      ]
    },
    {
      "cell_type": "markdown",
      "source": [
        "->Efficient Data Management:\n",
        "\n",
        "Use Case: When managing large datasets where user frequently perform operations like unions or intersections, sets provide an efficient way to handle these tasks.\n",
        "\n",
        "Example: Managing user permissions across different roles."
      ],
      "metadata": {
        "id": "pXWMWq37mgfi"
      }
    },
    {
      "cell_type": "code",
      "source": [
        "admin_permissions = {'read', 'write', 'delete'}\n",
        "user_permissions = {'read', 'write'}\n",
        "all_permissions = admin_permissions | user_permissions  # Union\n",
        "print(all_permissions)\n"
      ],
      "metadata": {
        "colab": {
          "base_uri": "https://localhost:8080/"
        },
        "id": "jorHYXzEmb4l",
        "outputId": "f46e1e23-9c33-4fd0-b433-068e2cda7f18"
      },
      "execution_count": null,
      "outputs": [
        {
          "output_type": "stream",
          "name": "stdout",
          "text": [
            "{'write', 'delete', 'read'}\n"
          ]
        }
      ]
    },
    {
      "cell_type": "markdown",
      "source": [
        "Q-7 Describe how to add, modify, and delete items in a dictionary with examples."
      ],
      "metadata": {
        "id": "bqGQfZgfmplH"
      }
    },
    {
      "cell_type": "markdown",
      "source": [
        "1. Adding Items to a Dictionary:\n",
        "User can add new key-value pairs to a dictionary by simply assigning a value to a new key."
      ],
      "metadata": {
        "id": "foFx-tQxo2S6"
      }
    },
    {
      "cell_type": "code",
      "source": [
        "#example\n",
        "# Create an empty dictionary\n",
        "my_dict = {}\n",
        "\n",
        "# Add a key-value pair\n",
        "my_dict['name'] = 'Alice'\n",
        "my_dict['age'] = 25\n",
        "\n",
        "# Add another key-value pair\n",
        "my_dict['city'] = 'New York'\n",
        "\n",
        "print(my_dict)\n",
        "\n"
      ],
      "metadata": {
        "colab": {
          "base_uri": "https://localhost:8080/"
        },
        "id": "5TQCn1BBmlmm",
        "outputId": "a2e34da6-684d-45e0-fa86-095dd910b588"
      },
      "execution_count": null,
      "outputs": [
        {
          "output_type": "stream",
          "name": "stdout",
          "text": [
            "{'name': 'Alice', 'age': 25, 'city': 'New York'}\n"
          ]
        }
      ]
    },
    {
      "cell_type": "markdown",
      "source": [
        "2. Modifying Items in a Dictionary:\n",
        "To modify the value associated with an existing key, assign a new value to that key."
      ],
      "metadata": {
        "id": "bsAvmDPFpGAF"
      }
    },
    {
      "cell_type": "code",
      "source": [
        "#example\n",
        "# Modify the value of an existing key\n",
        "my_dict['age'] = 26\n",
        "\n",
        "print(my_dict)\n",
        "\n"
      ],
      "metadata": {
        "colab": {
          "base_uri": "https://localhost:8080/"
        },
        "id": "iD7v-_3OpCLV",
        "outputId": "5020d969-3b51-4644-abf1-4357a2437b3c"
      },
      "execution_count": null,
      "outputs": [
        {
          "output_type": "stream",
          "name": "stdout",
          "text": [
            "{'name': 'Alice', 'age': 26, 'city': 'New York'}\n"
          ]
        }
      ]
    },
    {
      "cell_type": "markdown",
      "source": [
        "If the key does not exist in the dictionary, a new key-value pair is added."
      ],
      "metadata": {
        "id": "izKvcbWlpTZi"
      }
    },
    {
      "cell_type": "code",
      "source": [
        "# Adding a new key-value pair by modifying a non-existent key\n",
        "my_dict['country'] = 'USA'\n",
        "\n",
        "print(my_dict)\n",
        "\n"
      ],
      "metadata": {
        "colab": {
          "base_uri": "https://localhost:8080/"
        },
        "id": "1mCWn8nTpQSg",
        "outputId": "6755d4a9-7eb5-496e-efa4-0628e8c498c8"
      },
      "execution_count": null,
      "outputs": [
        {
          "output_type": "stream",
          "name": "stdout",
          "text": [
            "{'name': 'Alice', 'age': 26, 'city': 'New York', 'country': 'USA'}\n"
          ]
        }
      ]
    },
    {
      "cell_type": "markdown",
      "source": [
        "3. Deleting Items from a Dictionary:\n",
        "User can delete key-value pairs from a dictionary using several methods:\n",
        "\n",
        "-> del Statement:\n",
        "The del statement removes the key-value pair associated with the specified key."
      ],
      "metadata": {
        "id": "pSeVgU3NpcjW"
      }
    },
    {
      "cell_type": "code",
      "source": [
        "# Delete the key-value pair for 'city'\n",
        "del my_dict['city']\n",
        "\n",
        "print(my_dict)\n",
        "\n"
      ],
      "metadata": {
        "colab": {
          "base_uri": "https://localhost:8080/"
        },
        "id": "7l0XMNfKpbOb",
        "outputId": "9407bbb0-be1e-45c7-d344-2db8fb6e00d3"
      },
      "execution_count": null,
      "outputs": [
        {
          "output_type": "stream",
          "name": "stdout",
          "text": [
            "{'name': 'Alice', 'age': 26, 'country': 'USA'}\n"
          ]
        }
      ]
    },
    {
      "cell_type": "markdown",
      "source": [
        "->pop() Method:\n",
        "The pop() method removes the key-value pair associated with the specified key and returns the value."
      ],
      "metadata": {
        "id": "PyVcVlI3xy8P"
      }
    },
    {
      "cell_type": "code",
      "source": [
        "# Pop the key-value pair for 'age'\n",
        "age = my_dict.pop('age')\n",
        "\n",
        "print(my_dict)\n"
      ],
      "metadata": {
        "colab": {
          "base_uri": "https://localhost:8080/"
        },
        "id": "d7AcJ5-1xwCt",
        "outputId": "19463d87-6ab1-4e1d-dfcb-11269d48f456"
      },
      "execution_count": null,
      "outputs": [
        {
          "output_type": "stream",
          "name": "stdout",
          "text": [
            "{'name': 'Alice', 'country': 'USA'}\n"
          ]
        }
      ]
    },
    {
      "cell_type": "markdown",
      "source": [
        "-> clear() Method:\n",
        "The clear() method removes all items from the dictionary, leaving it empty."
      ],
      "metadata": {
        "id": "gAnlwcG7y0uX"
      }
    },
    {
      "cell_type": "code",
      "source": [
        "# Clear the entire dictionary\n",
        "my_dict.clear()\n",
        "\n",
        "print(my_dict)\n"
      ],
      "metadata": {
        "colab": {
          "base_uri": "https://localhost:8080/"
        },
        "id": "I3Pk5xgiycfE",
        "outputId": "840ddb06-5516-4f4f-bffe-03d88b455526"
      },
      "execution_count": null,
      "outputs": [
        {
          "output_type": "stream",
          "name": "stdout",
          "text": [
            "{}\n"
          ]
        }
      ]
    },
    {
      "cell_type": "markdown",
      "source": [
        "Q-8 Discuss the importance of dictionary keys being immutable and provide examples.\n",
        "\n"
      ],
      "metadata": {
        "id": "3lrU9jaay98i"
      }
    },
    {
      "cell_type": "markdown",
      "source": [
        "In Python, dictionary keys must be immutable, meaning that their value cannot be changed after they are created. This immutability is crucial for ensuring that the dictionary remains consistent and that keys can be reliably used to access corresponding values. Below is the importance of dictionary keys being immutable and provide examples to illustrate these concepts.\n",
        "\n",
        "Importance of Dictionary Keys Being Immutable\n",
        "Hashing Requirement:\n",
        "\n",
        "-> Dictionaries in Python are implemented using a hash table, which is a data structure that maps keys to values based on a hash function. The hash function computes a hash value (a fixed-size integer) from the key, which determines where the value is stored in the memory.\n",
        "\n",
        "If keys were mutable, their hash value could change if the key itself changed. This would break the mapping between the key and its value, causing the dictionary to lose track of where the value is stored.\n",
        "Reliable Key Access:\n",
        "\n",
        "-> Immutability ensures that the key remains constant throughout its lifecycle. If a key could change, user wouldn't be able to reliably access the value associated with it because the key used to store the value might no longer be the same when they try to retrieve it.\n",
        "\n",
        "By requiring keys to be immutable, Python guarantees that once a key-value pair is inserted, the key will always be able to retrieve its corresponding value.\n",
        "Consistency and Predictability:\n",
        "\n",
        "-> Mutable keys could lead to unpredictable behavior in dictionaries. For example, if user change the key after inserting it into a dictionary, they could end up with multiple inconsistent keys that point to the same value or none at all, leading to errors that are difficult to debug.\n",
        "\n",
        "Immutable keys ensure that dictionaries operate consistently, making code easier to reason about and maintain."
      ],
      "metadata": {
        "id": "LgZOZsSkzqgo"
      }
    },
    {
      "cell_type": "markdown",
      "source": [
        "Example Illustrating the Importance of Immutability\n",
        "\n",
        "Issue with Mutable Keys:\n",
        " Imagine if Python allowed mutable types like lists to be dictionary keys:"
      ],
      "metadata": {
        "id": "E4NDK1sI0Hj1"
      }
    },
    {
      "cell_type": "code",
      "source": [
        "# Hypothetical example (this will actually raise an error)\n",
        "my_list = [1, 2, 3]\n",
        "my_dict = {my_list: 'list as key'}\n",
        "\n",
        "# Now modify the list\n",
        "my_list.append(4)\n",
        "\n",
        "# Attempt to access the dictionary using the modified list\n",
        "print(my_dict[my_list])  # What would happen here?\n"
      ],
      "metadata": {
        "colab": {
          "base_uri": "https://localhost:8080/",
          "height": 211
        },
        "id": "6rNAw0GT0RRl",
        "outputId": "96103dd4-926b-4c38-b0b2-ac293f92776f"
      },
      "execution_count": null,
      "outputs": [
        {
          "output_type": "error",
          "ename": "TypeError",
          "evalue": "unhashable type: 'list'",
          "traceback": [
            "\u001b[0;31m---------------------------------------------------------------------------\u001b[0m",
            "\u001b[0;31mTypeError\u001b[0m                                 Traceback (most recent call last)",
            "\u001b[0;32m<ipython-input-60-838c00edeb91>\u001b[0m in \u001b[0;36m<cell line: 3>\u001b[0;34m()\u001b[0m\n\u001b[1;32m      1\u001b[0m \u001b[0;31m# Hypothetical example (this will actually raise an error)\u001b[0m\u001b[0;34m\u001b[0m\u001b[0;34m\u001b[0m\u001b[0m\n\u001b[1;32m      2\u001b[0m \u001b[0mmy_list\u001b[0m \u001b[0;34m=\u001b[0m \u001b[0;34m[\u001b[0m\u001b[0;36m1\u001b[0m\u001b[0;34m,\u001b[0m \u001b[0;36m2\u001b[0m\u001b[0;34m,\u001b[0m \u001b[0;36m3\u001b[0m\u001b[0;34m]\u001b[0m\u001b[0;34m\u001b[0m\u001b[0;34m\u001b[0m\u001b[0m\n\u001b[0;32m----> 3\u001b[0;31m \u001b[0mmy_dict\u001b[0m \u001b[0;34m=\u001b[0m \u001b[0;34m{\u001b[0m\u001b[0mmy_list\u001b[0m\u001b[0;34m:\u001b[0m \u001b[0;34m'list as key'\u001b[0m\u001b[0;34m}\u001b[0m\u001b[0;34m\u001b[0m\u001b[0;34m\u001b[0m\u001b[0m\n\u001b[0m\u001b[1;32m      4\u001b[0m \u001b[0;34m\u001b[0m\u001b[0m\n\u001b[1;32m      5\u001b[0m \u001b[0;31m# Now modify the list\u001b[0m\u001b[0;34m\u001b[0m\u001b[0;34m\u001b[0m\u001b[0m\n",
            "\u001b[0;31mTypeError\u001b[0m: unhashable type: 'list'"
          ]
        }
      ]
    },
    {
      "cell_type": "markdown",
      "source": [
        "If this were allowed, the list's hash would change after modification, leading to an inability to find the key, or worse, unpredictable behavior."
      ],
      "metadata": {
        "id": "BvNnyi7L0VeS"
      }
    },
    {
      "cell_type": "markdown",
      "source": [
        "Immutable Key Example:  \n",
        "Now compare this with an immutable tuple:"
      ],
      "metadata": {
        "id": "zfc1R6Tn0Yy1"
      }
    },
    {
      "cell_type": "code",
      "source": [
        "my_tuple = (1, 2, 3)\n",
        "my_dict = {my_tuple: 'tuple as key'}\n",
        "\n",
        "# Modify the tuple (which is not possible, so we create a new one instead)\n",
        "# Since tuples are immutable, we can't change my_tuple directly\n",
        "\n",
        "# Access the dictionary using the original tuple\n",
        "print(my_dict[my_tuple])  # Output: tuple as key\n"
      ],
      "metadata": {
        "colab": {
          "base_uri": "https://localhost:8080/"
        },
        "id": "sMMo5PL00TKD",
        "outputId": "fd107b3b-d3c3-4042-8385-2fa5918ecf73"
      },
      "execution_count": null,
      "outputs": [
        {
          "output_type": "stream",
          "name": "stdout",
          "text": [
            "tuple as key\n"
          ]
        }
      ]
    },
    {
      "cell_type": "markdown",
      "source": [
        "Here, since my_tuple is immutable, the key remains constant, and access to the dictionary is predictable and reliable."
      ],
      "metadata": {
        "id": "-QdhauMz0hAX"
      }
    },
    {
      "cell_type": "code",
      "source": [],
      "metadata": {
        "id": "ygsOc9rf0fTN"
      },
      "execution_count": null,
      "outputs": []
    }
  ]
}